import pandas as pd
import numpy as np
import statsmodels.api as sm
import statsmodels.formula.api as smf
from statsmodels.regression.quantile_regression import QuantReg
from scipy.stats import t

# Imports for plotting
import matplotlib.pyplot as plt
import seaborn as sns

# Hide warnings in notebook
import warnings
warnings.filterwarnings('ignore')





# Load in all .dta files from data
baseline = pd.read_stata('./data/2013-0533_data_baseline.dta')
census = pd.read_stata('./data/2013-0533_data_census.dta')
endline1businesstype = pd.read_stata('./data/2013-0533_data_endline1businesstype.dta')
endlines1and2 = pd.read_stata('./data/2013-0533_data_endlines1and2.dta')





def check_data_types(df, prefix=None):
    """Prints the data types of columns in a DataFrame, optionally filtered by prefix"""
    print("\nData type check:")
    
    # Filter columns if prefix is provided
    cols_to_check = df.columns
    if prefix:
        cols_to_check = [col for col in cols_to_check if col.startswith(prefix)]
    
    # Sanity check
    for col in cols_to_check:
        print(f"{col}: {df[col].dtype}, Unique values: {df[col].nunique()}, Missing: {df[col].isna().sum()}")


# Sanity check for tables 1a replication
print("Checking key column data types in baseline DataFrame:")
columns_to_check = ['treatment', 'areaid', 'w1', 'w2']
columns_to_check.extend([col for col in baseline.columns if 'biz' in col])
check_data_types(baseline, prefix=None)


# Sanity check for tables 3, 3b, 3c replication
print("Checking key column data types in endlines1and2 DataFrame:")
columns_to_check = ['treatment', 'areaid', 'w1', 'w2']
columns_to_check.extend([col for col in endlines1and2.columns if 'biz' in col])
check_data_types(endlines1and2, prefix=None)

print("Data preview:")
print(endlines1and2[['treatment', 'areaid', 'w1', 'w2']].head())





"""
Function for computing quantile treatment effect.

Params:
    df: Pandas DataFrame
    var: String
    cluster_var: String
    quantiles: List
    reps: Int
Returns:
    Pandas DataFrame
"""
def quantile_treatment_effect(df, var, cluster_var, quantiles, reps=500):
    results = []

    for q in quantiles:
        d = df[[var, 'treatment', cluster_var]].dropna()
        ols_coef = sm.OLS(d[var], sm.add_constant(d["treatment"])).fit().params['treatment']
        
        qreg = QuantReg(d[var], sm.add_constant(d["treatment"])).fit(q=q)
        beta = qreg.params['treatment']
        se = qreg.bse['treatment']
        n = len(d)
        ts = t.ppf(0.95, df=n - 2)
        cil = beta - ts * se
        ciu = beta + ts * se
        
        results.append([q, ols_coef, beta, cil, ciu])

    return pd.DataFrame(results, columns=["qtile", "ols_treatment", "treatment", "treatment_cilo", "treatment_cihi"])


"""
Helper function for plotting each figure. 

Params:
    df: Pandas DataFrame
    outcome_var: String
    title: String
    ci_upper_cap: Float
    ci_lower_cap: Float
"""
def plot_qte(df, outcome_var, title, yticks_neg, yticks_pos, ci_upper_cap=None, ci_lower_cap=None):
    treatment_dict = {'Treatment': 1, 'Control': 0}
    df = df[[outcome_var, 'treatment', 'areaid']].dropna()
    df["treatment"] = df["treatment"].map(treatment_dict)

    qtile_values = np.arange(0.05, 0.98, 0.02)
    result_df = quantile_treatment_effect(df, outcome_var, "areaid", qtile_values)
    result_df["Percentile"] = result_df["qtile"] * 100
    result_df["y0"] = 0
    result_df.loc[(result_df["Percentile"] < 5) | (result_df["Percentile"] > 95), "y0"] = np.nan

    # truncating confidence intervals for better visualization
    if ci_upper_cap is not None:
        result_df.loc[result_df["treatment_cihi"] > ci_upper_cap, "treatment_cihi"] = ci_upper_cap
    if ci_lower_cap is not None:
        result_df.loc[result_df["treatment_cilo"] < ci_lower_cap, "treatment_cilo"] = ci_lower_cap

    # plotting
    plt.figure(figsize=(10, 6))
    sns.lineplot(data=result_df, x="Percentile", y="ols_treatment", label="OLS")
    sns.lineplot(data=result_df, x="Percentile", y="treatment", label="Quantile treatment effect", color='gray')
    sns.lineplot(data=result_df, x="Percentile", y="y0", color='black')
    sns.lineplot(data=result_df, x="Percentile", y="treatment_cihi", color='navy', linestyle='--', label="90% C.I")
    sns.lineplot(data=result_df, x="Percentile", y="treatment_cilo", color='navy', linestyle='--')
    
    plt.title(title)
    plt.xlabel("Percentile")
    plt.ylabel("Effect")
    plt.legend()
    plt.xlim([0, 95])
    plt.xticks(np.array([ 5, 10, 20, 30, 40, 50, 60, 70, 80, 90, 95]))
    plt.yticks(yticks_neg + [0] + yticks_pos)
    plt.show();





# Running this cell will replicate Figure 2
plot_qte(
    df=endlines1and2,
    outcome_var="informal_amt_1",
    title="Treatment effect on informal borrowing (endline 1)",
    ci_upper_cap=20000,
    ci_lower_cap=-20000,
    yticks_neg=[-18000, -6000],
    yticks_pos=[6000, 18000]
)





# Preprocessing
# Filtering for old‐business households at endline 1
old_business_df = endlines1and2[(endlines1and2['old_biz'] == 1) & (endlines1and2['sample1'] == '1')]

# Investigating unique values of 'old_biz' and 'sample1' to ensure correct filtering conditions
endlines1and2[['old_biz', 'sample1']].drop_duplicates()


# Correcting the filtering logic based on observed values
old_business_df = endlines1and2[(endlines1and2['old_biz'] == 1.0) & (endlines1and2['sample1'] == 'Yes')]
old_business_df.head(


# Running this cell will replicate Figure 3
plot_qte(
    old_business_df,
    outcome_var='bizprofit_1',
    title="Treatment Effect on Business Profits\n(HHs who have an old business, endline 1)",
    ci_upper_cap=9000,
    ci_lower_cap=-3000,
    yticks_neg=[-12000, -6000],
    yticks_pos=[6000, 12000]
)





# Preprocessing
endlines1and2['bizprofit_1_new'] = endlines1and2['bizprofit_1'].where(
    (endlines1and2['any_old_biz'] == "No") & (endlines1and2['any_biz_1'] == 1)
)
print(f"Total count {len(endlines1and2['bizprofit_1_new'])}")
print(f"Count of null values: {endlines1and2['bizprofit_1_new'].isnull().sum()}")


# Running this cell will replicate Figure 4
plot_qte(
    df=endlines1and2,
    outcome_var='bizprofit_1_new',
    title='Treatment Effect on Business Profits (HHs with New Business, Endline 1)',
    ci_upper_cap=12000,  # Match the plot's visible Y-axis range
    ci_lower_cap=-12000,
    yticks_neg=[-12000, -6000],
    yticks_pos=[6000, 12000]
)





endlines1and2['bizprofit_2_biz'] = endlines1and2['bizprofit_2'].where(endlines1and2['any_biz_2'] == 1)


# Running this cell will replicate Figure 5
plot_qte(
    df=endlines1and2,
    outcome_var='bizprofit_2_biz',
    title='Treatment Effect on Business Profits (Any Business, Endline 2)',
    ci_upper_cap=6000,    
    ci_lower_cap=-6000,
    yticks_neg=[-6000, -3000],
    yticks_pos=[3000, 6000]
)








"""
Function for computing regression summary table.
It also supports preprocessing of categorical variables.

Params:
    baseline: Pandas DataFrame
    var_groups: Dictionary
        key: String
            Variable name
        value: List
            List of variable names
    treatment_col: String
        Name of treatment variable
    cluster_col: String
        Name of cluster variable

Returns:
    Pandas DataFrame
"""
def compute_summary_table(baseline, var_groups, treatment_col='treatment', cluster_col='areaid'):
    allvars = []
    
    # Handle _allHH creation
    if 'businesses' in var_groups:
        businesses = var_groups['businesses']
        for var in businesses:
            baseline[f"{var}_allHH"] = baseline[var].copy()
            baseline.loc[baseline["total_biz"] == 0, f"{var}_allHH"] = 0
        businesses_allHH = [f"{var}_allHH" for var in businesses]
        var_groups['businesses_allHH'] = businesses_allHH
    
    # Flatten all variable lists into one
    for group_vars in var_groups.values():
        allvars.extend(group_vars)
    
    # Compute summaries
    results = []
    for var in allvars:
        d = baseline[[var, treatment_col, cluster_col]].dropna()

        # If variable is categorical, preprocess first
        baseline_dict = {'Yes': 1, 'No': 0}
        if d[var].dtype == baseline['spandana'].dtype:
            d[var] = d[var].map(baseline_dict).astype(int)

        control_group = d[d[treatment_col] == "Control"]
        N = control_group.shape[0]
        try:
            mean = control_group[var].mean()
            sd = control_group[var].std()
        except Exception as e:
            print(f"Something went wrong at {var}: {e}")
            continue
        
        try:
            model = smf.ols(f"{var} ~ {treatment_col}", data=d).fit(
                cov_type='cluster', cov_kwds={'groups': d[cluster_col]}
            )
            coef = model.params.get(f'{treatment_col}[T.Treatment]', None)
            pval = model.pvalues.get(f'{treatment_col}[T.Treatment]', None)
        except Exception as e:
            print(f"Modeling failed at {var}: {e}")
            coef, pval = None, None
        
        results.append([var, N, mean, sd, coef, pval])
    
    table = pd.DataFrame(results, columns=["Variable", "Obs", "Control_mean", "Control_sd", "Difference", "p_val"])
    return table


var_groups = {
    'hh_composition': ["hh_size", "adults", "children", "male_head", "head_age", "head_noeduc"],
    'credit_access': ["spandana", "othermfi", "bank", "informal", "anyloan"],
    'loan_amt': ["spandana_amt", "othermfi_amt", "bank_amt", "informal_amt", "anyloan_amt"],
    'self_emp_activ': ["total_biz", "female_biz", "female_biz_pct"],
    'businesses': ["bizrev", "bizexpense", "bizinvestment", "bizemployees", "hours_weekbiz"],
    'consumption': ["total_exp_mo", "nondurable_exp_mo", "durables_exp_mo", "home_durable_index"]
}

# Compute summary table
table1a = compute_summary_table(baseline, var_groups)
table1a





"""
Function for computing regression summary table.
It one-hot-encodes categorical variables.

Params:
    data: Pandas DataFrame
    endline_num: Int={1, 2}
    panel: String={"all", "old", "new"}
Returns: 
    Pandas DataFrame
"""
def compute_regression_table3(data, endline_num, panel="all"):
    
    area_controls = "area_pop_base area_debt_total_base area_business_total_base area_exp_pc_mean_base area_literate_head_base area_literate_base".split()
    
    # Weight variable based on endline
    weight_var = f'w{endline_num}'
    
    # Outcomes based on endline
    outcomes = [
        f'bizassets_{endline_num}', 
        f'bizinvestment_{endline_num}', 
        f'bizrev_{endline_num}',
        f'bizexpense_{endline_num}', 
        f'bizprofit_{endline_num}'
    ]
    
    # Outcomes based on panel
    if panel == "all":
        outcomes.extend([
            f'any_biz_{endline_num}',
            f'total_biz_{endline_num}', 
            f'any_new_biz_{endline_num}', 
            f'biz_stop_{endline_num}', 
            f'newbiz_{endline_num}', 
            f'female_biz_new_{endline_num}', 
            f'biz_index_all_{endline_num}'
        ])
    elif panel == "old":
        outcomes.extend([
            f'bizemployees_{endline_num}',
            f'biz_index_old_{endline_num}'
        ])
    elif panel == "new":
        outcomes.extend([
            f'bizemployees_{endline_num}',
            f'biz_index_new_{endline_num}'
        ])
    
    # Filter condition based on panel
    if panel == "old":
        data = data[data['any_old_biz'] == "No"].copy()
    elif panel == "new":
        data = data[(data[f'newbiz_{endline_num}'] > 0) & (~data[f'newbiz_{endline_num}'].isna())].copy()
    
    results = []
    for outcome in outcomes:
        if outcome not in data.columns:
            print(f"Warning: {outcome} not found in data")
            continue
        
        try:
            X = ['treatment'] + area_controls # Regression formula
            reg_data = data[[outcome] + X + [weight_var, 'areaid']].copy()
            
            # Drop any rows with NaN values
            reg_data = reg_data.dropna()
            
            # If there's not enough data, skip this outcome
            if len(reg_data) < 10:
                print(f"Warning: Too few observations for {outcome} after filtering. Skipping.")
                continue
                
            y = reg_data[outcome]
            X_vars = X.copy()
            
            # Check for constant variables in the independent variables
            for var in X_vars.copy():
                if reg_data[var].nunique() <= 1:
                    print(f"Warning: Variable {var} is constant. Removing from regression.")
                    X_vars.remove(var)
            
            X_reg = sm.add_constant(reg_data[X_vars])
            weights = reg_data[weight_var]
            model = sm.WLS(y, X_reg, weights=weights)
            result = model.fit(cov_type='cluster', cov_kwds={'groups': reg_data['areaid']})
            
            # Calculate p-value for treatment
            if 'treatment' in result.params:
                p_val = 2 * t.sf(abs(result.tvalues['treatment']), result.df_resid)
                
                # Calculate control group mean and standard deviation
                control_data = data[data['treatment'] == 0][outcome]
                control_mean = control_data.mean()
                control_sd = control_data.std()
                
                # Store results
                results.append({
                    'outcome': outcome,
                    'coefficient': result.params['treatment'],
                    'std_error': result.bse['treatment'],
                    'p_value': p_val,
                    'r_squared': result.rsquared,
                    'control_mean': control_mean,
                    'control_sd': control_sd,
                    'N': len(reg_data)
                })
            else:
                print(f"Warning: 'treatment' variable was dropped from the regression for {outcome}")
        except Exception as e:
            print(f"Error running regression for {outcome}: {str(e)}")
    
    if not results:
        print("No successful regressions to report!")
        return pd.DataFrame()
        
    return pd.DataFrame(results)


# Run all analyses
print("\n==== RUNNING ALL REGRESSION ANALYSES ====")

# Preprocess
treatment_dict = {'Treatment': 1, 'Control': 0}
df = endlines1and2.copy()
df["treatment"] = df["treatment"].map(treatment_dict)

results = {}
# Table 3, Panel A: All households, Endline 1
print("\nRunning Table 3, Panel A: All households, Endline 1")
results['table3_panel_a'] = compute_regression_table3(df, 1, panel="all")

# Table 3, Panel B: All households, Endline 2
print("\nRunning Table 3, Panel B: All households, Endline 2")
results['table3_panel_b'] = compute_regression_table3(df, 2, panel="all")

# Table 3b, Panel A: Households with old businesses, Endline 1
print("\nRunning Table 3b, Panel A: Households with old businesses, Endline 1")
results['table3b_panel_a'] = compute_regression_table3(df, 1, panel="old")

# Table 3b, Panel B: Households with old businesses, Endline 2
print("\nRunning Table 3b, Panel B: Households with old businesses, Endline 2")
results['table3b_panel_b'] = compute_regression_table3(df, 2, panel="old")

# Table 3c: Households with new businesses, Endline 1
print("\nRunning Table 3c: Households with new businesses, Endline 1")
results['table3c'] = compute_regression_table3(df, 1, panel="new")

print("\n===== REGRESSION ANALYSES COMPLETE =====")





# Running this cell will replicate a portion of Table 3
print("\nTABLE 3 - Self Employment Activities (All Households) [Panel A. Endline 1]\n")
results['table3_panel_a']


# Running this cell will replicate a portion of Table 3
print("\nTABLE 3 - Self Employment Activities (All Households) [Panel B. Endline 2]\n")
results['table3_panel_b']





# Running this cell will replicate a portion of Table 3B
print("\nTABLE 3B - Self Employment Activities (Households with Old Businesses) [Panel A. Endline 1]\n")
results['table3b_panel_a']


# Running this cell will replicate a portion of Table 3B
print("\nTABLE 3B - Self Employment Activities (Households with Old Businesses) [Panel B. Endline 2]\n")
results['table3b_panel_b']





# Running this cell will replicate a portion of Table 3B
print("\nTABLE 3C - Self Employment Activities (Households with new Businesses, ELI only)\n")
results['table3c']
